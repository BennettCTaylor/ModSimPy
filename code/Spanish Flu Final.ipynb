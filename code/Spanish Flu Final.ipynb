{
 "cells": [
  {
   "cell_type": "markdown",
   "metadata": {},
   "source": [
    "# What If The Spanish Flu Had The Same Impact as The Black Death?\n",
    "\n",
    "\n",
    "A Simulation by Anna Letcher Hartman and Bennett Taylor\n",
    "\n"
   ]
  },
  {
   "cell_type": "markdown",
   "metadata": {},
   "source": [
    "Our project posed the question “What would happen if the Spanish Flu held the same effects as the Black Death?” What would the current population look like, and how would the population drop carry through the measured years? The model could demonstrate the effectiveness of the vaccines in reducing infection rates, and put historical information in a more easily understood context. For the model to be feasible we had to make the assumptions listed bellow.\n",
    "Assumptions:\n",
    "1.\t The biggest effect on birth and death rate around the time of the black plague was the black plague.\n",
    "From the research we did this appears to be true, however without going much deeper it is impossible to know for certain.\n",
    "2.\tIf 1/3 to 1/2 of the population of America died during the Spanish flu outbreak the rest of the events of the century would progress relatively unchanged\n",
    "This assumption is vital to the feasibility of our model. Including it would be at the very least a PHD level problem. However it is blatantly false, the US would not have been able to join WW2 the roaring twenties would likely have changed in character severally if they happened at all. In short it would have completely changed the cores of US history.\n",
    "3.\tThe population decline during the epidemic would be relatively linear\n",
    "This is a simplification, but a decent assumption since our goal is just to kill a certain percent of the population.\n",
    "4.\tThe growth curve accuracy 1900-1918 is unimportant to the models overall accuracy.\n",
    " As long as the numeric population value at 1900 and 1918 are accurate, the changes made in the model by the introduced values will still be significant.\n",
    "\n",
    "\n"
   ]
  },
  {
   "cell_type": "markdown",
   "metadata": {},
   "source": [
    "### Reading and Ploting US Census Data from 1901 to 1990"
   ]
  },
  {
   "cell_type": "code",
   "execution_count": 1,
   "metadata": {},
   "outputs": [],
   "source": [
    "%matplotlib inline\n",
    "\n",
    "from modsim import *\n",
    "from pandas import read_csv\n"
   ]
  },
  {
   "cell_type": "code",
   "execution_count": 2,
   "metadata": {},
   "outputs": [
    {
     "name": "stdout",
     "output_type": "stream",
     "text": [
      "data/Census_Data.csv\n"
     ]
    }
   ],
   "source": [
    "filename = 'data/Census_Data.csv'\n",
    "print (filename)\n",
    "tables = read_csv(filename, header=0, index_col=0, decimal='M')\n",
    "tables.columns = ['Population', 'Change', 'Rate']"
   ]
  },
  {
   "cell_type": "code",
   "execution_count": 3,
   "metadata": {},
   "outputs": [],
   "source": [
    "def plot_results(census, timeseries, title):\n",
    "    \"\"\"Plot the estimates and the model.\n",
    "    \n",
    "    census: TimeSeries of population estimates\n",
    "    un: TimeSeries of population estimates\n",
    "    timeseries: TimeSeries of simulation results\n",
    "    title: string\n",
    "    \"\"\"\n",
    "    plot(census, '--', label='US Census')\n",
    "  #  plot(un, '--', label='UN DESA')\n",
    "    if len(timeseries):\n",
    "        plot(timeseries, color='gray', label='model')\n",
    "    \n",
    "    decorate(xlabel='Year', \n",
    "             ylabel='US population (billions)',\n",
    "             title=title)"
   ]
  },
  {
   "cell_type": "code",
   "execution_count": 4,
   "metadata": {},
   "outputs": [
    {
     "data": {
      "image/png": "[encoded data removed]",
      "text/plain": [
       "<Figure size 432x288 with 1 Axes>"
      ]
     },
     "metadata": {
      "needs_background": "light"
     },
     "output_type": "display_data"
    }
   ],
   "source": [
    "popData = tables.Population / 1e9\n",
    "#change = tables.Change / 1e9\n",
    "empty = TimeSeries()\n",
    "plot_results(popData, empty, 'US Census Data')"
   ]
  },
  {
   "cell_type": "markdown",
   "metadata": {},
   "source": [
    "### Defining Update Function\n",
    "\n",
    "##### Defing global variabls and system object:\n",
    "p_0 and init define the initial population of the simulation, the Alpha and Beta arrays hold a variety of constants that we use to fine tune out quadratick update function.\n"
   ]
  },
  {
   "cell_type": "code",
   "execution_count": 5,
   "metadata": {},
   "outputs": [],
   "source": [
    "p_0 = get_last_value(popData)\n",
    "init = State(babyboy=p_0)\n",
    "alpha_array_global = linspace(0,0.025,20)\n",
    "beta_array = linspace(0,-0.0018,20)"
   ]
  },
  {
   "cell_type": "markdown",
   "metadata": {},
   "source": [
    "Initializing System Object"
   ]
  },
  {
   "cell_type": "code",
   "execution_count": 6,
   "metadata": {},
   "outputs": [],
   "source": [
    "\n",
    "system = System(birth_rate = 0.0292,\n",
    "                #1918 birthrate (does not change, black death did not affect birthrate)\n",
    "                death_rate =.0172,\n",
    "                death_rate1= .0392,\n",
    "                #death rate in 1900\n",
    "                death_rate2 = .175, #code do be duplicated and run alongside curret, replacing .028 with \n",
    "                \n",
    "                t_0 = 1900,\n",
    "                t_end = 2018,\n",
    "                init=init,\n",
    "                alpha_array= [0.019, 0.01578947, 0.01],\n",
    "                beta_array= [-1.23157895*10**-3, -1.13684211*10**-3, -1.04210526*10**-3])"
   ]
  },
  {
   "cell_type": "markdown",
   "metadata": {},
   "source": [
    "##### Update Function\n",
    "We used a set of quadratick equations to model population growth after 1922, during the plage years, between 1918 and 1922, and in the short years before that we uesed a liner model. In this model we used the actual spanish flue updats so we could tweek our model to fit the Data."
   ]
  },
  {
   "cell_type": "code",
   "execution_count": 7,
   "metadata": {
    "scrolled": true
   },
   "outputs": [],
   "source": [
    "def update_func1(state, t, system):\n",
    "\n",
    "    births = system.birth_rate * state.babyboy #constant birthrate throughout, in accordance with historic data\n",
    "   \n",
    "    #change death rates at start of Spanish Flu\n",
    "    \n",
    "    if 1918 < t < 1922: #area of affect: set to Spanish Flu death rate\n",
    "        deaths = system.death_rate1 * state.babyboy\n",
    "        babyboy = state.babyboy + births - deaths\n",
    "        return State(babyboy=babyboy)\n",
    "   \n",
    "    if 1922< t <1950: #model of population before babyboom\n",
    "        net_growth = system.alpha_array[0] * state.babyboy + system.beta_array[0] * state.babyboy**2\n",
    "        #net_growth = 0.0022675*t**2+2.6804*t+300.760\n",
    "        babyboy = state.babyboy + net_growth\n",
    "        return State(babyboy=babyboy)\n",
    " \n",
    "    if 1966 > t > 1950: #model of population during babyboom\n",
    "        net_growth = system.alpha_array[1] * state.babyboy + system.beta_array[1] * state.babyboy**2\n",
    "        babyboy = state.babyboy + net_growth\n",
    "        return State(babyboy=babyboy)\n",
    "    \n",
    "    if t > 1966: #model of population after babyboom\n",
    "        net_growth = system.alpha_array[2] * state.babyboy + system.beta_array[2] * state.babyboy**2\n",
    "        babyboy = state.babyboy + net_growth\n",
    "        return State(babyboy=babyboy)\n",
    "    \n",
    "    else: #model of population before SF: linear for numeric accuracy\n",
    "        deaths = system.death_rate * state.babyboy\n",
    "        babyboy = state.babyboy + births - deaths\n",
    "        return State(babyboy=babyboy)"
   ]
  },
  {
   "cell_type": "code",
   "execution_count": 8,
   "metadata": {},
   "outputs": [],
   "source": [
    "state = update_func1(init, system.t_0, system) #sets up recursion variable"
   ]
  },
  {
   "cell_type": "code",
   "execution_count": null,
   "metadata": {},
   "outputs": [],
   "source": []
  },
  {
   "cell_type": "markdown",
   "metadata": {},
   "source": [
    "Running the Model"
   ]
  },
  {
   "cell_type": "code",
   "execution_count": 9,
   "metadata": {},
   "outputs": [],
   "source": [
    "def run_simulation(system, update_func):\n",
    "    \"\"\"Simulate the system using any update function.\n",
    "    \n",
    "    init: initial State object\n",
    "    system: System object\n",
    "    update_func: function that computes the population next year\n",
    "    \n",
    "    returns: TimeSeries\n",
    "    \"\"\"\n",
    "    results = TimeSeries()\n",
    "    \n",
    "    state = system.init\n",
    "    results[system.t_0] = state.babyboy\n",
    "    \n",
    "    for t in linrange(system.t_0, system.t_end):\n",
    "        state = update_func(state, t, system)\n",
    "        results[t+1] = state.babyboy\n",
    "        \n",
    "    return results"
   ]
  },
  {
   "cell_type": "code",
   "execution_count": 14,
   "metadata": {},
   "outputs": [
    {
     "data": {
      "image/png": "[encoded data removed]",
      "text/plain": [
       "<Figure size 432x288 with 1 Axes>"
      ]
     },
     "metadata": {
      "needs_background": "light"
     },
     "output_type": "display_data"
    }
   ],
   "source": [
    "results = run_simulation(system, update_func1); #setting run_simulation result to be saved as \"results\"\n",
    "plot_results(popData, results, 'World population estimates')"
   ]
  },
  {
   "cell_type": "markdown",
   "metadata": {},
   "source": [
    "### New Update Function and Results\n",
    "In this version we used the Black Plage death rate."
   ]
  },
  {
   "cell_type": "code",
   "execution_count": 12,
   "metadata": {},
   "outputs": [],
   "source": [
    "def update_func2(state, t, system):\n",
    "\n",
    "    #print(type(state.babyboy))\n",
    "    births = system.birth_rate * state.babyboy\n",
    "      \n",
    "    #change death rates at start of Spanish Flu\n",
    "    \n",
    "    if 1918 < t < 1922:\n",
    "        deaths = system.death_rate2 * state.babyboy\n",
    "        babyboy = state.babyboy + births - deaths\n",
    "        return State(babyboy=babyboy)\n",
    "   \n",
    "    if 1922< t <1950:\n",
    "        net_growth = system.alpha_array[0] * state.babyboy + system.beta_array[0] * state.babyboy**2\n",
    "        #net_growth = 0.0022675*t**2+2.6804*t+300.760\n",
    "        babyboy = state.babyboy + net_growth\n",
    "        return State(babyboy=babyboy)\n",
    " \n",
    "    if 1966 > t > 1950:\n",
    "        net_growth = system.alpha_array[1] * state.babyboy + system.beta_array[1] * state.babyboy**2\n",
    "        babyboy = state.babyboy + net_growth\n",
    "        return State(babyboy=babyboy)\n",
    "    if t > 1966:\n",
    "        net_growth = system.alpha_array[2] * state.babyboy + system.beta_array[2] * state.babyboy**2\n",
    "        babyboy = state.babyboy + net_growth\n",
    "        return State(babyboy=babyboy)\n",
    "    else:\n",
    "        deaths = system.death_rate * state.babyboy\n",
    "        babyboy = state.babyboy + births - deaths\n",
    "        return State(babyboy=babyboy)"
   ]
  },
  {
   "cell_type": "code",
   "execution_count": 15,
   "metadata": {},
   "outputs": [
    {
     "data": {
      "image/png": "[encoded data removed]",
      "text/plain": [
       "<Figure size 432x288 with 1 Axes>"
      ]
     },
     "metadata": {
      "needs_background": "light"
     },
     "output_type": "display_data"
    }
   ],
   "source": [
    "results = run_simulation(system, update_func2);\n",
    "plot_results(popData, results, 'World population estimates')\n"
   ]
  },
  {
   "cell_type": "markdown",
   "metadata": {},
   "source": [
    "Results: Our simulation delivered a model in line with our preconceived ideas. The population dropped significantly between 1918 and 1920, leaving a little under a third of the population dead. The drop in population continued to hold a deficit through the remaining years. According to our model, he 2018 population would be 216.635,000, as opposed to the originally projected 2018 population of 334.7 million, or the currently recorded population of 325.7 million. This is a much higher discrepancy than we theorised. We thought the population would begin to catch up if not return near the actual value. If we were to redo our simulation we would make our data fit better from 1901 to 1918. "
   ]
  },
  {
   "cell_type": "code",
   "execution_count": null,
   "metadata": {},
   "outputs": [],
   "source": []
  },
  {
   "cell_type": "code",
   "execution_count": null,
   "metadata": {},
   "outputs": [],
   "source": []
  },
  {
   "cell_type": "code",
   "execution_count": null,
   "metadata": {},
   "outputs": [],
   "source": []
  },
  {
   "cell_type": "code",
   "execution_count": null,
   "metadata": {},
   "outputs": [],
   "source": []
  },
  {
   "cell_type": "code",
   "execution_count": null,
   "metadata": {},
   "outputs": [],
   "source": []
  },
  {
   "cell_type": "code",
   "execution_count": null,
   "metadata": {},
   "outputs": [],
   "source": []
  },
  {
   "cell_type": "code",
   "execution_count": null,
   "metadata": {},
   "outputs": [],
   "source": []
  },
  {
   "cell_type": "code",
   "execution_count": null,
   "metadata": {},
   "outputs": [],
   "source": []
  },
  {
   "cell_type": "code",
   "execution_count": null,
   "metadata": {},
   "outputs": [],
   "source": []
  }
 ],
 "metadata": {
  "kernelspec": {
   "display_name": "Python 3",
   "language": "python",
   "name": "python3"
  },
  "language_info": {
   "codemirror_mode": {
    "name": "ipython",
    "version": 3
   },
   "file_extension": ".py",
   "mimetype": "text/x-python",
   "name": "python",
   "nbconvert_exporter": "python",
   "pygments_lexer": "ipython3",
   "version": "3.6.6"
  }
 },
 "nbformat": 4,
 "nbformat_minor": 2
}
