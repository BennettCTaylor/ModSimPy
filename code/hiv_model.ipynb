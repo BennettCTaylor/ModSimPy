{
 "cells": [
  {
   "cell_type": "code",
   "execution_count": 1,
   "metadata": {},
   "outputs": [
    {
     "name": "stdout",
     "output_type": "stream",
     "text": [
      "Keep It Positive (Not Like That)\n",
      "Bennett Taylor\n"
     ]
    }
   ],
   "source": [
    "print(\"Keep It Positive (Not Like That)\")\n",
    "print(\"Bennett Taylor\")"
   ]
  },
  {
   "cell_type": "code",
   "execution_count": 30,
   "metadata": {},
   "outputs": [],
   "source": [
    "# Configure Jupyter so figures appear in the notebook\n",
    "%matplotlib inline\n",
    "\n",
    "# Configure Jupyter to display the assigned value after an assignment\n",
    "%config InteractiveShell.ast_node_interactivity='last_expr_or_assign'\n",
    "\n",
    "# import functions from the modsim.py module\n",
    "from modsim import *"
   ]
  },
  {
   "cell_type": "code",
   "execution_count": null,
   "metadata": {},
   "outputs": [],
   "source": []
  },
  {
   "cell_type": "code",
   "execution_count": 31,
   "metadata": {},
   "outputs": [
    {
     "data": {
      "text/plain": [
       "'init = State(R = None, L = None, E = None, V = None)\\nΓ = None\\nτ = None\\nμ = None\\nα = None\\nδ = None\\nσ = None\\nsystem = System(ri_rate=Γ*τ,\\n               rl_rate=rl_rate,\\n               re_rate=re_rate,\\n                ro_rate=μ,\\n                le_rate=α,\\n                eo_rate=δ,\\n                lo_rate=μ,\\n                vi_rate=vi_rate,\\n               vo_rate=σ)\\nprint(system)'"
      ]
     },
     "execution_count": 31,
     "metadata": {},
     "output_type": "execute_result"
    }
   ],
   "source": [
    "\"\"\"init = State(R = None, L = None, E = None, V = None)\n",
    "Γ = None\n",
    "τ = None\n",
    "μ = None\n",
    "α = None\n",
    "δ = None\n",
    "σ = None\n",
    "system = System(ri_rate=Γ*τ,\n",
    "               rl_rate=rl_rate,\n",
    "               re_rate=re_rate,\n",
    "                ro_rate=μ,\n",
    "                le_rate=α,\n",
    "                eo_rate=δ,\n",
    "                lo_rate=μ,\n",
    "                vi_rate=vi_rate,\n",
    "               vo_rate=σ)\n",
    "print(system)\"\"\""
   ]
  },
  {
   "cell_type": "code",
   "execution_count": 68,
   "metadata": {},
   "outputs": [],
   "source": [
    "def make_system(r,tau,mu,alpha,delta,sigma,B,p,pi):\n",
    "    \"\"\"Make a system object for the SIR model.\n",
    "    \n",
    "    beta: contact rate in days\n",
    "    gamma: recovery rate in days\n",
    "    \n",
    "    returns: System object\n",
    "    \"\"\"\n",
    "    init = State(R = 1000, L = 0, E = 1, V = 100)\n",
    "    \n",
    "    dt= 0.1\n",
    "    t0=0\n",
    "    t_end=100\n",
    "\n",
    "    return System(init=init, t0=t0, t_end=t_end,\n",
    "                  r =r ,tau = tau, mu = mu,alpha = alpha,delta = delta,\n",
    "                  sigma = sigma, B=B, p=p, pi=pi, dt=dt)"
   ]
  },
  {
   "cell_type": "code",
   "execution_count": 69,
   "metadata": {},
   "outputs": [],
   "source": [
    "def update_func(state, dt, system):\n",
    "    unpack(system)\n",
    "    \n",
    "    R, L, E, V = state\n",
    "    \n",
    "    drdt = r*tau - mu*R - B*R*V\n",
    "    dldt = p*B*R*V - mu*L - alpha*L\n",
    "    dedt = (1-p)*B*R*V + alpha*L-delta*E\n",
    "    dvdt = pi*E - sigma*V\n",
    "\n",
    "    R = drdt\n",
    "    L = dldt\n",
    "    E = dedt\n",
    "    V = dvdt\n",
    "    \n",
    "    return State(R=R, L=L, E=E, V=V)"
   ]
  },
  {
   "cell_type": "code",
   "execution_count": 70,
   "metadata": {},
   "outputs": [
    {
     "ename": "SyntaxError",
     "evalue": "invalid syntax (<ipython-input-70-b0b880c7f437>, line 2)",
     "output_type": "error",
     "traceback": [
      "\u001b[1;36m  File \u001b[1;32m\"<ipython-input-70-b0b880c7f437>\"\u001b[1;36m, line \u001b[1;32m2\u001b[0m\n\u001b[1;33m    \"\"\"Runs a simulation of the system.\u001b[0m\n\u001b[1;37m                                       \n^\u001b[0m\n\u001b[1;31mSyntaxError\u001b[0m\u001b[1;31m:\u001b[0m invalid syntax\n"
     ]
    }
   ],
   "source": [
    "\"\"\"def run_simulation(system, update_func):\n",
    "    \"\"\"Runs a simulation of the system.\n",
    "        \n",
    "    system: System object\n",
    "    update_func: function that updates state\n",
    "    \n",
    "    returns: TimeFrame\n",
    "    \"\"\"\n",
    "    unpack(system)\n",
    "    \n",
    "    frame = TimeFrame(columns=init.index)\n",
    "    frame.row[t0] = init\n",
    "    \n",
    "    timesteps = pd.Series(np.linspace(t0, t_end,int(t_end/dt)))\n",
    "    \n",
    "    for t in timesteps.index[:-1]:\n",
    "        frame.row[timesteps[t+1]] = update_func(frame.row[timesteps[t]], dt, system)\n",
    "    \n",
    "    \n",
    "    return frame\"\"\""
   ]
  },
  {
   "cell_type": "code",
   "execution_count": 71,
   "metadata": {},
   "outputs": [
    {
     "data": {
      "text/html": [
       "<div>\n",
       "<style scoped>\n",
       "    .dataframe tbody tr th:only-of-type {\n",
       "        vertical-align: middle;\n",
       "    }\n",
       "\n",
       "    .dataframe tbody tr th {\n",
       "        vertical-align: top;\n",
       "    }\n",
       "\n",
       "    .dataframe thead th {\n",
       "        text-align: right;\n",
       "    }\n",
       "</style>\n",
       "<table border=\"1\" class=\"dataframe\">\n",
       "  <thead>\n",
       "    <tr style=\"text-align: right;\">\n",
       "      <th></th>\n",
       "      <th>values</th>\n",
       "    </tr>\n",
       "  </thead>\n",
       "  <tbody>\n",
       "    <tr>\n",
       "      <th>init</th>\n",
       "      <td>R    1000\n",
       "L       0\n",
       "E       1\n",
       "V     100\n",
       "dtype:...</td>\n",
       "    </tr>\n",
       "    <tr>\n",
       "      <th>t0</th>\n",
       "      <td>0</td>\n",
       "    </tr>\n",
       "    <tr>\n",
       "      <th>t_end</th>\n",
       "      <td>100</td>\n",
       "    </tr>\n",
       "    <tr>\n",
       "      <th>r</th>\n",
       "      <td>1.36</td>\n",
       "    </tr>\n",
       "    <tr>\n",
       "      <th>tau</th>\n",
       "      <td>0.2</td>\n",
       "    </tr>\n",
       "    <tr>\n",
       "      <th>mu</th>\n",
       "      <td>0.00136</td>\n",
       "    </tr>\n",
       "    <tr>\n",
       "      <th>alpha</th>\n",
       "      <td>0.036</td>\n",
       "    </tr>\n",
       "    <tr>\n",
       "      <th>delta</th>\n",
       "      <td>0.33</td>\n",
       "    </tr>\n",
       "    <tr>\n",
       "      <th>sigma</th>\n",
       "      <td>2</td>\n",
       "    </tr>\n",
       "    <tr>\n",
       "      <th>B</th>\n",
       "      <td>0.00027</td>\n",
       "    </tr>\n",
       "    <tr>\n",
       "      <th>p</th>\n",
       "      <td>0.1</td>\n",
       "    </tr>\n",
       "    <tr>\n",
       "      <th>pi</th>\n",
       "      <td>100</td>\n",
       "    </tr>\n",
       "    <tr>\n",
       "      <th>dt</th>\n",
       "      <td>0.1</td>\n",
       "    </tr>\n",
       "  </tbody>\n",
       "</table>\n",
       "</div>"
      ],
      "text/plain": [
       "init     R    1000\n",
       "L       0\n",
       "E       1\n",
       "V     100\n",
       "dtype:...\n",
       "t0                                                       0\n",
       "t_end                                                  100\n",
       "r                                                     1.36\n",
       "tau                                                    0.2\n",
       "mu                                                 0.00136\n",
       "alpha                                                0.036\n",
       "delta                                                 0.33\n",
       "sigma                                                    2\n",
       "B                                                  0.00027\n",
       "p                                                      0.1\n",
       "pi                                                     100\n",
       "dt                                                     0.1\n",
       "dtype: object"
      ]
     },
     "execution_count": 71,
     "metadata": {},
     "output_type": "execute_result"
    }
   ],
   "source": [
    "system = make_system(1.36, 0.2, 1.36e-3, 3.6e-2, 0.33, 2, 0.00027, 0.1, 100 )\n"
   ]
  },
  {
   "cell_type": "code",
   "execution_count": 72,
   "metadata": {},
   "outputs": [],
   "source": [
    "results, details = run_ode_solver(system, update_func)"
   ]
  },
  {
   "cell_type": "code",
   "execution_count": 73,
   "metadata": {},
   "outputs": [
    {
     "data": {
      "text/plain": [
       "<matplotlib.axes._subplots.AxesSubplot at 0x250cd90b668>"
      ]
     },
     "execution_count": 73,
     "metadata": {},
     "output_type": "execute_result"
    },
    {
     "data": {
      "image/png": "[encoded data removed]",
      "text/plain": [
       "<Figure size 432x288 with 1 Axes>"
      ]
     },
     "metadata": {
      "needs_background": "light"
     },
     "output_type": "display_data"
    }
   ],
   "source": [
    "results.plot()"
   ]
  },
  {
   "cell_type": "code",
   "execution_count": null,
   "metadata": {},
   "outputs": [],
   "source": []
  }
 ],
 "metadata": {
  "kernelspec": {
   "display_name": "Python 3",
   "language": "python",
   "name": "python3"
  },
  "language_info": {
   "codemirror_mode": {
    "name": "ipython",
    "version": 3
   },
   "file_extension": ".py",
   "mimetype": "text/x-python",
   "name": "python",
   "nbconvert_exporter": "python",
   "pygments_lexer": "ipython3",
   "version": "3.6.6"
  }
 },
 "nbformat": 4,
 "nbformat_minor": 2
}
