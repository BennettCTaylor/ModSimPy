{
 "cells": [
  {
   "cell_type": "code",
   "execution_count": 1,
   "metadata": {},
   "outputs": [],
   "source": [
    "# Configure Jupyter so figures appear in the notebook\n",
    "%matplotlib inline\n",
    "\n",
    "# Configure Jupyter to display the assigned value after an assignment\n",
    "%config InteractiveShell.ast_node_interactivity='last_expr_or_assign'\n",
    "\n",
    "# import functions from the modsim.py module\n",
    "from modsim import *\n",
    "import math as math\n",
    "\n",
    "import numpy as np\n",
    "import matplotlib.pyplot as ply\n",
    "import scipy, pylab"
   ]
  },
  {
   "cell_type": "code",
   "execution_count": 2,
   "metadata": {},
   "outputs": [
    {
     "data": {
      "text/html": [
       "newton"
      ],
      "text/latex": [
       "$newton$"
      ],
      "text/plain": [
       "<Unit('newton')>"
      ]
     },
     "execution_count": 2,
     "metadata": {},
     "output_type": "execute_result"
    }
   ],
   "source": [
    "m = UNITS.meter\n",
    "s = UNITS.second\n",
    "kg = UNITS.kilogram\n",
    "AU = UNITS.astronomical_unit\n",
    "N = UNITS.newton"
   ]
  },
  {
   "cell_type": "code",
   "execution_count": 3,
   "metadata": {},
   "outputs": [
    {
     "data": {
      "text/html": [
       "<div>\n",
       "<style scoped>\n",
       "    .dataframe tbody tr th:only-of-type {\n",
       "        vertical-align: middle;\n",
       "    }\n",
       "\n",
       "    .dataframe tbody tr th {\n",
       "        vertical-align: top;\n",
       "    }\n",
       "\n",
       "    .dataframe thead th {\n",
       "        text-align: right;\n",
       "    }\n",
       "</style>\n",
       "<table border=\"1\" class=\"dataframe\">\n",
       "  <thead>\n",
       "    <tr style=\"text-align: right;\">\n",
       "      <th></th>\n",
       "      <th>values</th>\n",
       "    </tr>\n",
       "  </thead>\n",
       "  <tbody>\n",
       "    <tr>\n",
       "      <th>px</th>\n",
       "      <td>300000 meter</td>\n",
       "    </tr>\n",
       "    <tr>\n",
       "      <th>py</th>\n",
       "      <td>300000 meter</td>\n",
       "    </tr>\n",
       "    <tr>\n",
       "      <th>vx</th>\n",
       "      <td>0.0 meter / second</td>\n",
       "    </tr>\n",
       "    <tr>\n",
       "      <th>vy</th>\n",
       "      <td>-1000.0 meter / second</td>\n",
       "    </tr>\n",
       "  </tbody>\n",
       "</table>\n",
       "</div>"
      ],
      "text/plain": [
       "px              300000 meter\n",
       "py              300000 meter\n",
       "vx        0.0 meter / second\n",
       "vy    -1000.0 meter / second\n",
       "dtype: object"
      ]
     },
     "execution_count": 3,
     "metadata": {},
     "output_type": "execute_result"
    }
   ],
   "source": [
    "#asteroid is starting approximately \"r\" away in the x and y distance\n",
    "px_0 = 300000 * m\n",
    "py_0 = 300000 * m\n",
    "vx_0 = 0 * m/s\n",
    "vy_0 = -1000 * m/ s\n",
    "init = State(px=px_0,\n",
    "             py=py_0,\n",
    "             vx=vx_0,\n",
    "             vy=vy_0)"
   ]
  },
  {
   "cell_type": "code",
   "execution_count": 4,
   "metadata": {},
   "outputs": [
    {
     "data": {
      "text/html": [
       "<div>\n",
       "<style scoped>\n",
       "    .dataframe tbody tr th:only-of-type {\n",
       "        vertical-align: middle;\n",
       "    }\n",
       "\n",
       "    .dataframe tbody tr th {\n",
       "        vertical-align: top;\n",
       "    }\n",
       "\n",
       "    .dataframe thead th {\n",
       "        text-align: right;\n",
       "    }\n",
       "</style>\n",
       "<table border=\"1\" class=\"dataframe\">\n",
       "  <thead>\n",
       "    <tr style=\"text-align: right;\">\n",
       "      <th></th>\n",
       "      <th>values</th>\n",
       "    </tr>\n",
       "  </thead>\n",
       "  <tbody>\n",
       "    <tr>\n",
       "      <th>init</th>\n",
       "      <td>px              300000 meter\n",
       "py              3...</td>\n",
       "    </tr>\n",
       "    <tr>\n",
       "      <th>G</th>\n",
       "      <td>6.67408e-11 meter ** 2 * newton / kilogram ** 2</td>\n",
       "    </tr>\n",
       "    <tr>\n",
       "      <th>m1</th>\n",
       "      <td>6100000000000000.0 kilogram</td>\n",
       "    </tr>\n",
       "    <tr>\n",
       "      <th>m2</th>\n",
       "      <td>5.972324e+24 kilogram</td>\n",
       "    </tr>\n",
       "    <tr>\n",
       "      <th>t_0</th>\n",
       "      <td>0 second</td>\n",
       "    </tr>\n",
       "    <tr>\n",
       "      <th>t_end</th>\n",
       "      <td>315360000 second</td>\n",
       "    </tr>\n",
       "    <tr>\n",
       "      <th>r_final</th>\n",
       "      <td>6376000 meter</td>\n",
       "    </tr>\n",
       "  </tbody>\n",
       "</table>\n",
       "</div>"
      ],
      "text/plain": [
       "init       px              300000 meter\n",
       "py              3...\n",
       "G            6.67408e-11 meter ** 2 * newton / kilogram ** 2\n",
       "m1                               6100000000000000.0 kilogram\n",
       "m2                                     5.972324e+24 kilogram\n",
       "t_0                                                 0 second\n",
       "t_end                                       315360000 second\n",
       "r_final                                        6376000 meter\n",
       "dtype: object"
      ]
     },
     "execution_count": 4,
     "metadata": {},
     "output_type": "execute_result"
    }
   ],
   "source": [
    "system = System (init = init,\n",
    "                G = 6.67408e-11*N/kg**2 * m**2,\n",
    "        #mass of asteroid that killed dinosaurs\n",
    "                m1 = 6.1e15* kg,\n",
    "        #earth mass\n",
    "                m2 = 5.972324e24* kg,\n",
    "                t_0 = 0 * s,\n",
    "                t_end = 315360000* s,\n",
    "        #radius of earth plus radius of asteroid that killed the dinosaurs\n",
    "                r_final = (6371000 + 5000)* m)"
   ]
  },
  {
   "cell_type": "code",
   "execution_count": 5,
   "metadata": {},
   "outputs": [],
   "source": [
    "def universal_gravitation(state, system):\n",
    "    px, py, vx, vy = state\n",
    "    unpack(system)\n",
    "    \n",
    "\n",
    "    position = Vector(px, py)\n",
    "    P = sqrt(px**2 + py**2)\n",
    "    F_magnitude = G * m1 * m2/ ((P)**2)\n",
    "    \n",
    "    P_direction = position/P\n",
    "    \n",
    "    F = P_direction * (-1) * F_magnitude\n",
    "\n",
    "    \n",
    "    return F"
   ]
  },
  {
   "cell_type": "code",
   "execution_count": 6,
   "metadata": {},
   "outputs": [
    {
     "data": {
      "text/html": [
       "[-9.55162141e+18 -9.55162141e+18] newton"
      ],
      "text/latex": [
       "$[-9.55162141e+18 -9.55162141e+18] newton$"
      ],
      "text/plain": [
       "<Quantity([-9.55162141e+18 -9.55162141e+18], 'newton')>"
      ]
     },
     "execution_count": 6,
     "metadata": {},
     "output_type": "execute_result"
    }
   ],
   "source": [
    "universal_gravitation(init, system)"
   ]
  },
  {
   "cell_type": "code",
   "execution_count": 23,
   "metadata": {},
   "outputs": [],
   "source": [
    "def event_func(state, t, system):\n",
    "\n",
    "    px, py, vx, vy = state\n",
    "    \n",
    "    P = abs(sqrt(px**2 + py**2))\n",
    "    \n",
    "    return P - abs(system.r_final - 1)"
   ]
  },
  {
   "cell_type": "code",
   "execution_count": 24,
   "metadata": {},
   "outputs": [
    {
     "data": {
      "text/html": [
       "[-9.55162141e+18 -9.55162141e+18] newton"
      ],
      "text/latex": [
       "$[-9.55162141e+18 -9.55162141e+18] newton$"
      ],
      "text/plain": [
       "<Quantity([-9.55162141e+18 -9.55162141e+18], 'newton')>"
      ]
     },
     "execution_count": 24,
     "metadata": {},
     "output_type": "execute_result"
    }
   ],
   "source": [
    "universal_gravitation(init, system)"
   ]
  },
  {
   "cell_type": "code",
   "execution_count": 25,
   "metadata": {},
   "outputs": [],
   "source": [
    "def slope_func(state, t, system):\n",
    "    px, py, vx, vy = state\n",
    "    unpack(system)\n",
    "    \n",
    "    position = Vector(px, py)\n",
    "    \n",
    "    F = universal_gravitation(state, system)\n",
    "    \n",
    "    Fx = F.x\n",
    "    Fy = F.y\n",
    "    \n",
    "    dpxdt = vx\n",
    "    \n",
    "    dpydt = vy\n",
    "    \n",
    "    dvxdt = Fx/m1\n",
    "    \n",
    "    dvydt = Fy/m1\n",
    "    \n",
    "    \n",
    "    return dpxdt, dpydt, dvxdt, dvydt"
   ]
  },
  {
   "cell_type": "code",
   "execution_count": 26,
   "metadata": {
    "scrolled": true
   },
   "outputs": [
    {
     "data": {
      "text/plain": [
       "(<Quantity(0.0, 'meter / second')>,\n",
       " <Quantity(-1000.0, 'meter / second')>,\n",
       " <Quantity(-1565.839575767627, 'newton / kilogram')>,\n",
       " <Quantity(-1565.839575767627, 'newton / kilogram')>)"
      ]
     },
     "execution_count": 26,
     "metadata": {},
     "output_type": "execute_result"
    }
   ],
   "source": [
    "slope_func(init, 0, system)"
   ]
  },
  {
   "cell_type": "code",
   "execution_count": 27,
   "metadata": {},
   "outputs": [
    {
     "data": {
      "text/html": [
       "[-9.55162141e+18 -9.55162141e+18] newton"
      ],
      "text/latex": [
       "$[-9.55162141e+18 -9.55162141e+18] newton$"
      ],
      "text/plain": [
       "<Quantity([-9.55162141e+18 -9.55162141e+18], 'newton')>"
      ]
     },
     "execution_count": 27,
     "metadata": {},
     "output_type": "execute_result"
    }
   ],
   "source": [
    "grav = universal_gravitation(init, system)"
   ]
  },
  {
   "cell_type": "code",
   "execution_count": 28,
   "metadata": {
    "scrolled": false
   },
   "outputs": [
    {
     "name": "stdout",
     "output_type": "stream",
     "text": [
      "Required step size is less than spacing between numbers.\n",
      "sol                                                      None\n",
      "t_events                                                 [[]]\n",
      "nfev                                                    23444\n",
      "njev                                                        0\n",
      "nlu                                                         0\n",
      "status                                                     -1\n",
      "message     Required step size is less than spacing betwee...\n",
      "success                                                 False\n",
      "dtype: object\n",
      "<bound method NDFrame.last of                      px            py            vx            vy\n",
      "0.000000   3.000000e-04  3.000000e-04  0.000000e+00 -1.000000e+03\n",
      "0.000001   3.000000e-04  3.000000e-04 -1.732050e-03 -1.000002e+03\n",
      "0.000012   3.000000e-04  3.000000e-04 -1.905255e-02 -1.000019e+03\n",
      "0.000123   3.000000e-04  2.999999e-04 -1.922576e-01 -1.000192e+03\n",
      "0.001229   3.000000e-04  2.999988e-04 -1.924314e+00 -1.001924e+03\n",
      "0.012290   2.999999e-04  2.999876e-04 -1.924541e+01 -1.019245e+03\n",
      "0.122905   2.999882e-04  2.998653e-04 -1.925140e+02 -1.192475e+03\n",
      "1.229053   2.988133e-04  2.975859e-04 -1.935545e+03 -2.931565e+03\n",
      "8.029175   2.454426e-04  2.379505e-04 -1.467135e+04 -1.544587e+04\n",
      "10.938481  1.906749e-04  1.813689e-04 -2.378450e+04 -2.419715e+04\n",
      "13.106563  1.265779e-04  1.170905e-04 -3.726388e+04 -3.684105e+04\n",
      "14.213052  7.722387e-05  6.889457e-05 -5.499899e+04 -5.295184e+04\n",
      "14.488615  6.083353e-05  5.320843e-05 -6.477766e+04 -6.158992e+04\n",
      "14.778676  3.950304e-05  3.314905e-05 -8.543671e+04 -7.928909e+04\n",
      "14.943775  2.321390e-05  1.826095e-05 -1.180635e+05 -1.057971e+05\n",
      "15.013662  1.373665e-05  9.926520e-06 -1.613542e+05 -1.384396e+05\n",
      "15.044228  8.062322e-06  5.176762e-06 -2.217262e+05 -1.795799e+05\n",
      "15.057464  4.669446e-06  2.520026e-06 -3.086595e+05 -2.308269e+05\n",
      "15.063390  2.512621e-06  9.896208e-07 -4.531021e+05 -2.978542e+05\n",
      "15.065280  1.529615e-06  3.824622e-07 -6.177880e+05 -3.505944e+05\n",
      "15.066287  7.882418e-07  7.929906e-09 -9.273729e+05 -3.899025e+05\n",
      "15.066514  5.580755e-07 -7.956858e-08 -1.128290e+06 -3.766638e+05\n",
      "15.066671  3.614232e-07 -1.347414e-07 -1.404893e+06 -3.062494e+05\n",
      "15.066783  1.842908e-07 -1.590089e-07 -1.808674e+06 -6.721576e+04\n",
      "15.066860  2.838373e-08 -1.423061e-07 -2.243409e+06  6.776289e+05\n",
      "15.066910 -8.113609e-08 -7.855822e-08 -1.870570e+06  1.888473e+06\n",
      "15.066961 -1.438144e-07  3.173060e-08 -6.567618e+05  2.226389e+06\n",
      "15.067013 -1.600655e-07  1.392085e-07 -6.953553e+04  1.931109e+06\n",
      "15.067091 -1.516785e-07  2.756516e-07  2.232895e+05  1.568617e+06\n",
      "15.067198 -1.203921e-07  4.268988e-07  3.382260e+05  1.288272e+06\n",
      "...                 ...           ...           ...           ...\n",
      "17.664187 -9.447129e-14  6.537696e-14  1.098186e+09  1.513164e+09\n",
      "17.664187 -2.760830e-15  1.129606e-13  1.893198e+09  1.950215e+07\n",
      "17.664187  9.410681e-14  6.105502e-14  1.020127e+09 -1.595579e+09\n",
      "17.664187  1.007283e-13 -4.829296e-14 -8.327230e+08 -1.695428e+09\n",
      "17.664187  1.032858e-14 -1.099679e-13 -1.891659e+09 -1.402138e+08\n",
      "17.664187 -8.872170e-14 -6.162149e-14 -1.050485e+09  1.610072e+09\n",
      "17.664187 -1.008410e-13  3.110045e-14  6.188796e+08  1.861470e+09\n",
      "17.664187 -2.752979e-14  1.005337e-13  1.906658e+09  5.075797e+08\n",
      "17.664187  7.041887e-14  7.680103e-14  1.444228e+09 -1.327150e+09\n",
      "17.664187  1.025378e-13 -1.796360e-14 -3.529400e+08 -1.919904e+09\n",
      "17.664187  3.901236e-14 -9.516989e-14 -1.832597e+09 -7.060726e+08\n",
      "17.664187 -6.079679e-14 -7.994346e-14 -1.552200e+09  1.254183e+09\n",
      "17.664187 -9.804802e-14  1.902184e-15  8.281393e+07  2.033645e+09\n",
      "17.664187 -4.689271e-14  8.475828e-14  1.796361e+09  9.725224e+08\n",
      "17.664187  3.736441e-14  8.904623e-14  1.883961e+09 -7.910428e+08\n",
      "17.664187  9.490613e-14  1.919362e-14  4.005347e+08 -1.988375e+09\n",
      "17.664187  6.940042e-14 -6.711082e-14 -1.423611e+09 -1.440673e+09\n",
      "17.664187 -1.684935e-14 -9.369740e-14 -2.003374e+09  4.050022e+08\n",
      "17.664187 -8.645496e-14 -3.464689e-14 -7.232738e+08  1.945426e+09\n",
      "17.664187 -7.142072e-14  5.658009e-14  1.341777e+09  1.618957e+09\n",
      "17.664187  1.370012e-15  8.977896e-14  2.125871e+09 -5.547208e+07\n",
      "17.664187  7.667544e-14  4.616862e-14  1.088672e+09 -1.818414e+09\n",
      "17.664187  7.985291e-14 -4.025223e-14 -9.623614e+08 -1.875975e+09\n",
      "17.664187  8.088985e-15 -8.815989e-14 -2.111107e+09 -1.528499e+08\n",
      "17.664187 -7.031270e-14 -5.053415e-14 -1.202596e+09  1.779079e+09\n",
      "17.664187 -8.135517e-14  2.326817e-14  6.475701e+08  2.092805e+09\n",
      "17.664187 -2.202471e-14  8.062377e-14  2.128075e+09  5.627940e+08\n",
      "17.664187  5.772468e-14  6.016299e-14  1.572694e+09 -1.524570e+09\n",
      "17.664187  8.081795e-14 -1.841503e-14 -5.172692e+08 -2.125779e+09\n",
      "17.664187  2.401861e-14 -7.774800e-14 -2.129400e+09 -5.942638e+08\n",
      "\n",
      "[2970 rows x 4 columns]>\n"
     ]
    }
   ],
   "source": [
    "results, details = run_ode_solver(system, slope_func, vectorized = True, events = event_func)\n",
    "results.px/=1e9\n",
    "results.py/=1e9\n",
    "details\n",
    "print(details.message)\n",
    "print(details)\n",
    "print(results.last)"
   ]
  },
  {
   "cell_type": "code",
   "execution_count": 13,
   "metadata": {},
   "outputs": [
    {
     "data": {
      "image/png": "[encoded data removed]",
      "text/plain": [
       "<Figure size 432x288 with 1 Axes>"
      ]
     },
     "metadata": {
      "needs_background": "light"
     },
     "output_type": "display_data"
    }
   ],
   "source": [
    "results.px.plot()\n",
    "results.py.plot()\n",
    "decorate(ylabel='Distance [billions of km]')"
   ]
  },
  {
   "cell_type": "code",
   "execution_count": 14,
   "metadata": {},
   "outputs": [
    {
     "data": {
      "text/plain": [
       "[<matplotlib.lines.Line2D at 0x1b6e11725c0>]"
      ]
     },
     "execution_count": 14,
     "metadata": {},
     "output_type": "execute_result"
    },
    {
     "data": {
      "image/png": "[encoded data removed]",
      "text/plain": [
       "<Figure size 432x288 with 1 Axes>"
      ]
     },
     "metadata": {
      "needs_background": "light"
     },
     "output_type": "display_data"
    }
   ],
   "source": [
    "axes = plt.gca()\n",
    "axes.set_xlim([0, 0.00005])\n",
    "axes.set_ylim([0, 0.00005])\n",
    "\n",
    "plot(results.px,results.py)"
   ]
  },
  {
   "cell_type": "code",
   "execution_count": 15,
   "metadata": {},
   "outputs": [
    {
     "ename": "ValueError",
     "evalue": "not enough values to unpack (expected 2, got 0)",
     "output_type": "error",
     "traceback": [
      "\u001b[1;31m---------------------------------------------------------------------------\u001b[0m",
      "\u001b[1;31mValueError\u001b[0m                                Traceback (most recent call last)",
      "\u001b[1;32m<ipython-input-15-4801d01082fa>\u001b[0m in \u001b[0;36m<module>\u001b[1;34m()\u001b[0m\n\u001b[0;32m      1\u001b[0m \u001b[0maxes\u001b[0m \u001b[1;33m=\u001b[0m \u001b[0mplt\u001b[0m\u001b[1;33m.\u001b[0m\u001b[0mgca\u001b[0m\u001b[1;33m(\u001b[0m\u001b[1;33m)\u001b[0m\u001b[1;33m\u001b[0m\u001b[0m\n\u001b[1;32m----> 2\u001b[1;33m \u001b[0maxes\u001b[0m\u001b[1;33m.\u001b[0m\u001b[0mset_xlim\u001b[0m\u001b[1;33m(\u001b[0m\u001b[1;33m[\u001b[0m\u001b[1;33m]\u001b[0m\u001b[1;33m)\u001b[0m\u001b[1;33m\u001b[0m\u001b[0m\n\u001b[0m\u001b[0;32m      3\u001b[0m \u001b[0maxes\u001b[0m\u001b[1;33m.\u001b[0m\u001b[0mset_ylim\u001b[0m\u001b[1;33m(\u001b[0m\u001b[1;33m[\u001b[0m\u001b[1;33m]\u001b[0m\u001b[1;33m)\u001b[0m\u001b[1;33m\u001b[0m\u001b[0m\n\u001b[0;32m      4\u001b[0m \u001b[1;33m\u001b[0m\u001b[0m\n\u001b[0;32m      5\u001b[0m \u001b[0mresultsplot\u001b[0m\u001b[1;33m=\u001b[0m\u001b[0mplt\u001b[0m\u001b[1;33m.\u001b[0m\u001b[0mrun_ode_solver\u001b[0m\u001b[1;33m(\u001b[0m\u001b[0msystem\u001b[0m\u001b[1;33m,\u001b[0m \u001b[0mslope_func\u001b[0m\u001b[1;33m,\u001b[0m \u001b[0mvectorized\u001b[0m \u001b[1;33m=\u001b[0m \u001b[1;32mTrue\u001b[0m\u001b[1;33m)\u001b[0m\u001b[1;33m\u001b[0m\u001b[0m\n",
      "\u001b[1;32mC:\\Miniconda3\\lib\\site-packages\\matplotlib\\axes\\_base.py\u001b[0m in \u001b[0;36mset_xlim\u001b[1;34m(self, left, right, emit, auto, **kw)\u001b[0m\n\u001b[0;32m   3134\u001b[0m \u001b[1;33m\u001b[0m\u001b[0m\n\u001b[0;32m   3135\u001b[0m         \u001b[1;32mif\u001b[0m \u001b[0mright\u001b[0m \u001b[1;32mis\u001b[0m \u001b[1;32mNone\u001b[0m \u001b[1;32mand\u001b[0m \u001b[0miterable\u001b[0m\u001b[1;33m(\u001b[0m\u001b[0mleft\u001b[0m\u001b[1;33m)\u001b[0m\u001b[1;33m:\u001b[0m\u001b[1;33m\u001b[0m\u001b[0m\n\u001b[1;32m-> 3136\u001b[1;33m             \u001b[0mleft\u001b[0m\u001b[1;33m,\u001b[0m \u001b[0mright\u001b[0m \u001b[1;33m=\u001b[0m \u001b[0mleft\u001b[0m\u001b[1;33m\u001b[0m\u001b[0m\n\u001b[0m\u001b[0;32m   3137\u001b[0m \u001b[1;33m\u001b[0m\u001b[0m\n\u001b[0;32m   3138\u001b[0m         \u001b[0mself\u001b[0m\u001b[1;33m.\u001b[0m\u001b[0m_process_unit_info\u001b[0m\u001b[1;33m(\u001b[0m\u001b[0mxdata\u001b[0m\u001b[1;33m=\u001b[0m\u001b[1;33m(\u001b[0m\u001b[0mleft\u001b[0m\u001b[1;33m,\u001b[0m \u001b[0mright\u001b[0m\u001b[1;33m)\u001b[0m\u001b[1;33m)\u001b[0m\u001b[1;33m\u001b[0m\u001b[0m\n",
      "\u001b[1;31mValueError\u001b[0m: not enough values to unpack (expected 2, got 0)"
     ]
    },
    {
     "data": {
      "image/png": "[encoded data removed]",
      "text/plain": [
       "<Figure size 432x288 with 1 Axes>"
      ]
     },
     "metadata": {
      "needs_background": "light"
     },
     "output_type": "display_data"
    }
   ],
   "source": [
    "axes = plt.gca()\n",
    "axes.set_xlim([])\n",
    "axes.set_ylim([])\n",
    "\n",
    "resultsplot=plt.run_ode_solver(system, slope_func, vectorized = True)\n",
    "results.px/=1e9\n",
    "results.py/=1e4\n",
    "plt.xlim([12.5, 17.5])\n",
    "plt.ylim([0, .05])\n",
    "plt.show()"
   ]
  },
  {
   "cell_type": "code",
   "execution_count": null,
   "metadata": {},
   "outputs": [],
   "source": []
  }
 ],
 "metadata": {
  "kernelspec": {
   "display_name": "Python 3",
   "language": "python",
   "name": "python3"
  },
  "language_info": {
   "codemirror_mode": {
    "name": "ipython",
    "version": 3
   },
   "file_extension": ".py",
   "mimetype": "text/x-python",
   "name": "python",
   "nbconvert_exporter": "python",
   "pygments_lexer": "ipython3",
   "version": "3.6.6"
  }
 },
 "nbformat": 4,
 "nbformat_minor": 2
}
